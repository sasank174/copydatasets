{
  "nbformat": 4,
  "nbformat_minor": 0,
  "metadata": {
    "colab": {
      "name": "AdvancedCOPY.ipynb",
      "provenance": [],
      "collapsed_sections": []
    },
    "kernelspec": {
      "name": "python3",
      "display_name": "Python 3"
    },
    "language_info": {
      "name": "python"
    }
  },
  "cells": [
    {
      "cell_type": "markdown",
      "source": [
        "# COPY FOLDERS\n",
        "\n",
        "### Copy huge datasets or folders or recursive folders without loss of data at high speed"
      ],
      "metadata": {
        "id": "Sfo1w7gaYn4K"
      }
    },
    {
      "cell_type": "code",
      "source": [
        "#@title Click Run to Mount google drive\n",
        "\n",
        "from google.colab import drive\n",
        "drive.mount('/content/drive')"
      ],
      "metadata": {
        "colab": {
          "base_uri": "https://localhost:8080/"
        },
        "cellView": "form",
        "id": "MHbxcK3xQF_f",
        "outputId": "6ba0c4e9-e8a2-4210-e23e-ca4b4ff53ec7"
      },
      "execution_count": 1,
      "outputs": [
        {
          "output_type": "stream",
          "name": "stdout",
          "text": [
            "Mounted at /content/drive\n"
          ]
        }
      ]
    },
    {
      "cell_type": "code",
      "execution_count": 4,
      "metadata": {
        "cellView": "form",
        "id": "lfrF8BBWPqGY"
      },
      "outputs": [],
      "source": [
        "#@title Click Run for prerequicties\n",
        "\n",
        "\n",
        "import os\n",
        "import shutil\n",
        "import time\n",
        "\n",
        "def copyfiles(origin,target):\n",
        "    for x in os.listdir(origin):\n",
        "        o = origin + \"/\" + x\n",
        "        t = target + \"/\" + x\n",
        "        if os.path.isdir(o):\n",
        "            print(\"copying: \"+ x)\n",
        "            if not os.path.exists(t):os.makedirs(t)\n",
        "            start_time = time.time()\n",
        "            copyfiles(o,t)\n",
        "            print(\"copied {} in {} seconds\".format(x,(time.time() - start_time)))\n",
        "        elif os.path.isfile(o):shutil.copyfile(o, t)"
      ]
    },
    {
      "cell_type": "code",
      "source": [
        "#@markdown <center><h1>COPY FOLDERS</h1>copy datasets or huge recursive folders.</center>\n",
        "\n",
        "#@markdown \n",
        "\n",
        "#@markdown <center><h4>source and destination with \"/\"<h4></center><br><br>\n",
        "\n",
        "source = \"/content/drive/MyDrive/skincancer/DS\" #@param {type:\"string\"}\n",
        "destination = \"/content/dataset\" #@param {type:\"string\"}\n",
        "#@markdown <br><br><br><center><h2>Click Run to start copying</h2></center>\n",
        "\n",
        "\n",
        "\n",
        "# origin = r\"/content/sample_data\"\n",
        "# target = r\"/content/drive/MyDrive/..........\"\n",
        "\n",
        "if source == \"\" or destination == \"\":exit(\"invalid input\")\n",
        "else:\n",
        "    try:\n",
        "        copyfiles(source,destination)\n",
        "    except:\n",
        "        print(\"An exception occurred please click the run button it will resume\")\n",
        "print(\"done\")"
      ],
      "metadata": {
        "colab": {
          "base_uri": "https://localhost:8080/"
        },
        "cellView": "form",
        "id": "W44cXXIMPtvD",
        "outputId": "545acaf5-7c8a-43d4-9c6d-edbbf3811320"
      },
      "execution_count": null,
      "outputs": [
        {
          "output_type": "stream",
          "name": "stdout",
          "text": [
            "copying: ISIC Challenge 2017 Organized\n",
            "copying: Saved image tensors\n",
            "copied Saved image tensors in 21.63249158859253 seconds\n",
            "copying: ISIC-2017_Training_Data\n",
            "copying: Heatmaps PNG\n",
            "copied Heatmaps PNG in 14.807493448257446 seconds\n",
            "copying: Data Images JPG\n",
            "copied Data Images JPG in 91.78267359733582 seconds\n",
            "copied ISIC-2017_Training_Data in 106.60241675376892 seconds\n",
            "copying: Saved Models\n",
            "copying: InceptionV3\n",
            "copied InceptionV3 in 2.7877442836761475 seconds\n",
            "copying: Ensemble Model\n",
            "copied Ensemble Model in 3.1642696857452393 seconds\n",
            "copied Saved Models in 29.179649829864502 seconds\n",
            "copying: ISIC-2017_Test_v2_Part1_GroundTruth\n",
            "copied ISIC-2017_Test_v2_Part1_GroundTruth in 2.4632341861724854 seconds\n",
            "copying: folder_to_be_deleted\n",
            "copied folder_to_be_deleted in 0.0005123615264892578 seconds\n",
            "copying: ISIC-2017_Test_v2_Data\n",
            "copying: Data Image JPG\n",
            "copying: logs\n",
            "copying: validation\n",
            "copied validation in 2.4822962284088135 seconds\n",
            "copying: train\n",
            "copying: plugins\n",
            "copying: profile\n",
            "copying: 2021_05_23_07_29_21\n",
            "copied 2021_05_23_07_29_21 in 5.4482667446136475 seconds\n",
            "copying: 2021_05_23_03_29_18\n",
            "copied 2021_05_23_03_29_18 in 4.904767751693726 seconds\n",
            "copying: 2021_05_23_08_23_01\n",
            "copied 2021_05_23_08_23_01 in 4.922568082809448 seconds\n",
            "copied profile in 15.661293506622314 seconds\n",
            "copied plugins in 15.664679527282715 seconds\n",
            "copied train in 19.367793560028076 seconds\n",
            "copied logs in 21.857000589370728 seconds\n",
            "copied Data Image JPG in 776.85879778862 seconds\n",
            "copying: Heatmap PNG\n",
            "copied Heatmap PNG in 532.5545029640198 seconds\n",
            "copied ISIC-2017_Test_v2_Data in 1309.4214627742767 seconds\n",
            "copying: ISIC-2017_Training_Part1_GroundTruth\n"
          ]
        }
      ]
    }
  ]
}